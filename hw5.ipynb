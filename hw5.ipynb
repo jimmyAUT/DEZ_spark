{
 "cells": [
  {
   "cell_type": "code",
   "execution_count": 1,
   "id": "4eed8961-9fe9-4178-8fe5-3ea6222f0d65",
   "metadata": {},
   "outputs": [],
   "source": [
    "import pyspark"
   ]
  },
  {
   "cell_type": "code",
   "execution_count": 2,
   "id": "432845d8-b766-4474-8375-3ba98b7d90da",
   "metadata": {},
   "outputs": [
    {
     "data": {
      "text/plain": [
       "'3.4.4'"
      ]
     },
     "execution_count": 2,
     "metadata": {},
     "output_type": "execute_result"
    }
   ],
   "source": [
    "pyspark.__version__"
   ]
  },
  {
   "cell_type": "code",
   "execution_count": 47,
   "id": "d71ae680-5b76-4b5f-a4f1-3ba8e373f40f",
   "metadata": {},
   "outputs": [
    {
     "name": "stdout",
     "output_type": "stream",
     "text": [
      "root\n",
      " |-- VendorID: integer (nullable = true)\n",
      " |-- tpep_pickup_datetime: timestamp_ntz (nullable = true)\n",
      " |-- tpep_dropoff_datetime: timestamp_ntz (nullable = true)\n",
      " |-- passenger_count: long (nullable = true)\n",
      " |-- trip_distance: double (nullable = true)\n",
      " |-- RatecodeID: long (nullable = true)\n",
      " |-- store_and_fwd_flag: string (nullable = true)\n",
      " |-- PULocationID: integer (nullable = true)\n",
      " |-- DOLocationID: integer (nullable = true)\n",
      " |-- payment_type: long (nullable = true)\n",
      " |-- fare_amount: double (nullable = true)\n",
      " |-- extra: double (nullable = true)\n",
      " |-- mta_tax: double (nullable = true)\n",
      " |-- tip_amount: double (nullable = true)\n",
      " |-- tolls_amount: double (nullable = true)\n",
      " |-- improvement_surcharge: double (nullable = true)\n",
      " |-- total_amount: double (nullable = true)\n",
      " |-- congestion_surcharge: double (nullable = true)\n",
      " |-- Airport_fee: double (nullable = true)\n",
      "\n"
     ]
    }
   ],
   "source": [
    "from pyspark.sql import SparkSession\n",
    "\n",
    "spark = SparkSession.builder.master(\"local[*]\").appName('hw5').getOrCreate()\n",
    "\n",
    "df = spark.read.parquet('./data/raw/yellow/2024/10/yellow_tripdata_2024_10.parquet')\n",
    "\n",
    "df.printSchema()"
   ]
  },
  {
   "cell_type": "code",
   "execution_count": 6,
   "id": "9724418f-cd86-49e6-8b85-3ff5ec370f05",
   "metadata": {},
   "outputs": [
    {
     "data": {
      "text/plain": [
       "StructType([StructField('VendorID', IntegerType(), True), StructField('tpep_pickup_datetime', TimestampNTZType(), True), StructField('tpep_dropoff_datetime', TimestampNTZType(), True), StructField('passenger_count', LongType(), True), StructField('trip_distance', DoubleType(), True), StructField('RatecodeID', LongType(), True), StructField('store_and_fwd_flag', StringType(), True), StructField('PULocationID', IntegerType(), True), StructField('DOLocationID', IntegerType(), True), StructField('payment_type', LongType(), True), StructField('fare_amount', DoubleType(), True), StructField('extra', DoubleType(), True), StructField('mta_tax', DoubleType(), True), StructField('tip_amount', DoubleType(), True), StructField('tolls_amount', DoubleType(), True), StructField('improvement_surcharge', DoubleType(), True), StructField('total_amount', DoubleType(), True), StructField('congestion_surcharge', DoubleType(), True), StructField('Airport_fee', DoubleType(), True)])"
      ]
     },
     "execution_count": 6,
     "metadata": {},
     "output_type": "execute_result"
    }
   ],
   "source": [
    "df.schema"
   ]
  },
  {
   "cell_type": "code",
   "execution_count": 51,
   "id": "50118558-3828-452a-ab16-d3d6cbc0f8c2",
   "metadata": {},
   "outputs": [],
   "source": [
    "from pyspark.sql import types\n",
    "\n",
    "schema = types.StructType([\n",
    "    types.StructField(\"VendorID\", types.IntegerType(), True),\n",
    "    types.StructField(\"tpep_pickup_datetime\", types.TimestampType(), True),\n",
    "    types.StructField(\"tpep_dropoff_datetime\", types.TimestampType(), True),\n",
    "    types.StructField(\"passenger_count\", types.LongType(), True),\n",
    "    types.StructField(\"trip_distance\", types.DoubleType(), True),\n",
    "    types.StructField(\"RatecodeID\", types.LongType(), True),\n",
    "    types.StructField(\"store_and_fwd_flag\", types.StringType(), True),\n",
    "    types.StructField(\"PULocationID\", types.IntegerType(), True),\n",
    "    types.StructField(\"DOLocationID\", types.IntegerType(), True),\n",
    "    types.StructField(\"payment_type\", types.LongType(), True),\n",
    "    types.StructField(\"fare_amount\", types.DoubleType(), True),\n",
    "    types.StructField(\"extra\", types.DoubleType(), True),\n",
    "    types.StructField(\"mta_tax\", types.DoubleType(), True),\n",
    "    types.StructField(\"tip_amount\", types.DoubleType(), True),\n",
    "    types.StructField(\"tolls_amount\", types.DoubleType(), True),\n",
    "    types.StructField(\"improvement_surcharge\", types.DoubleType(), True),\n",
    "    types.StructField(\"total_amount\", types.DoubleType(), True),\n",
    "    types.StructField(\"congestion_surcharge\", types.DoubleType(), True)\n",
    "])"
   ]
  },
  {
   "cell_type": "code",
   "execution_count": 53,
   "id": "0b3dcca7-b033-42e8-9f28-32c99627f01a",
   "metadata": {},
   "outputs": [
    {
     "data": {
      "text/plain": [
       "0"
      ]
     },
     "execution_count": 53,
     "metadata": {},
     "output_type": "execute_result"
    }
   ],
   "source": [
    "df = None\n",
    "\n",
    "import gc\n",
    "gc.collect()"
   ]
  },
  {
   "cell_type": "code",
   "execution_count": 54,
   "id": "a590a74c-6d04-4615-a7ea-7b4f2e7b4bef",
   "metadata": {},
   "outputs": [],
   "source": [
    "df = spark.read.schema(schema).parquet('./data/raw/yellow/2024/10/yellow_tripdata_2024_10.parquet')"
   ]
  },
  {
   "cell_type": "code",
   "execution_count": 55,
   "id": "4c542f07-5a6e-46aa-a1cb-f7fb303392f0",
   "metadata": {},
   "outputs": [
    {
     "name": "stdout",
     "output_type": "stream",
     "text": [
      "root\n",
      " |-- VendorID: integer (nullable = true)\n",
      " |-- tpep_pickup_datetime: timestamp (nullable = true)\n",
      " |-- tpep_dropoff_datetime: timestamp (nullable = true)\n",
      " |-- passenger_count: long (nullable = true)\n",
      " |-- trip_distance: double (nullable = true)\n",
      " |-- RatecodeID: long (nullable = true)\n",
      " |-- store_and_fwd_flag: string (nullable = true)\n",
      " |-- PULocationID: integer (nullable = true)\n",
      " |-- DOLocationID: integer (nullable = true)\n",
      " |-- payment_type: long (nullable = true)\n",
      " |-- fare_amount: double (nullable = true)\n",
      " |-- extra: double (nullable = true)\n",
      " |-- mta_tax: double (nullable = true)\n",
      " |-- tip_amount: double (nullable = true)\n",
      " |-- tolls_amount: double (nullable = true)\n",
      " |-- improvement_surcharge: double (nullable = true)\n",
      " |-- total_amount: double (nullable = true)\n",
      " |-- congestion_surcharge: double (nullable = true)\n",
      "\n"
     ]
    }
   ],
   "source": [
    "df.printSchema()"
   ]
  },
  {
   "cell_type": "code",
   "execution_count": 56,
   "id": "a5857962-3f82-49a5-91a2-c42f6574a70f",
   "metadata": {},
   "outputs": [
    {
     "name": "stderr",
     "output_type": "stream",
     "text": [
      "                                                                                "
     ]
    }
   ],
   "source": [
    "df.repartition(4).write.parquet(\"./data/repartition/\")"
   ]
  },
  {
   "cell_type": "code",
   "execution_count": 57,
   "id": "36562abe-9c4f-4283-8f7e-b8cdd31a824d",
   "metadata": {},
   "outputs": [
    {
     "name": "stdout",
     "output_type": "stream",
     "text": [
      "total 97M\n",
      "-rw-r--r-- 1 vice vice   0 Mar  7 17:23 _SUCCESS\n",
      "-rw-r--r-- 1 vice vice 25M Mar  7 17:23 part-00000-0d81658f-cd65-4a96-a4f4-844b913dc0ec-c000.snappy.parquet\n",
      "-rw-r--r-- 1 vice vice 25M Mar  7 17:23 part-00001-0d81658f-cd65-4a96-a4f4-844b913dc0ec-c000.snappy.parquet\n",
      "-rw-r--r-- 1 vice vice 25M Mar  7 17:23 part-00002-0d81658f-cd65-4a96-a4f4-844b913dc0ec-c000.snappy.parquet\n",
      "-rw-r--r-- 1 vice vice 25M Mar  7 17:23 part-00003-0d81658f-cd65-4a96-a4f4-844b913dc0ec-c000.snappy.parquet\n"
     ]
    }
   ],
   "source": [
    "! cd data/repartition && ls -lh"
   ]
  },
  {
   "cell_type": "code",
   "execution_count": 65,
   "id": "de4a8a20-5011-4185-919e-da3a4efc8deb",
   "metadata": {},
   "outputs": [
    {
     "name": "stdout",
     "output_type": "stream",
     "text": [
      "+--------+--------------------+---------------------+---------------+-------------+----------+------------------+------------+------------+------------+-----------+-----+-------+----------+------------+---------------------+------------+--------------------+\n",
      "|VendorID|tpep_pickup_datetime|tpep_dropoff_datetime|passenger_count|trip_distance|RatecodeID|store_and_fwd_flag|PULocationID|DOLocationID|payment_type|fare_amount|extra|mta_tax|tip_amount|tolls_amount|improvement_surcharge|total_amount|congestion_surcharge|\n",
      "+--------+--------------------+---------------------+---------------+-------------+----------+------------------+------------+------------+------------+-----------+-----+-------+----------+------------+---------------------+------------+--------------------+\n",
      "|       2| 2024-10-01 08:30:44|  2024-10-01 08:48:26|              1|          3.0|         1|                 N|         162|         246|           1|       18.4|  1.0|    0.5|       1.5|         0.0|                  1.0|        24.9|                 2.5|\n",
      "|       1| 2024-10-01 08:12:20|  2024-10-01 08:25:25|              1|          2.2|         1|                 N|          48|         236|           1|       14.2|  3.5|    0.5|       3.8|         0.0|                  1.0|        23.0|                 2.5|\n",
      "|       1| 2024-10-01 08:04:46|  2024-10-01 08:13:52|              1|          2.7|         1|                 N|         142|          24|           1|       13.5|  3.5|    0.5|       3.7|         0.0|                  1.0|        22.2|                 2.5|\n",
      "|       1| 2024-10-01 08:12:10|  2024-10-01 08:23:01|              1|          3.1|         1|                 N|         233|          75|           1|       14.2|  3.5|    0.5|       2.0|         0.0|                  1.0|        21.2|                 2.5|\n",
      "|       1| 2024-10-01 08:30:22|  2024-10-01 08:30:39|              1|          0.0|         1|                 N|         262|         262|           3|        3.0|  3.5|    0.5|       0.0|         0.0|                  1.0|         8.0|                 2.5|\n",
      "|       2| 2024-10-01 08:31:20|  2024-10-01 08:36:00|              2|         0.97|         1|                 N|         137|         137|           1|        7.2|  1.0|    0.5|      2.44|         0.0|                  1.0|       14.64|                 2.5|\n",
      "|       1| 2024-10-01 08:42:57|  2024-10-01 08:49:01|              1|          1.3|         1|                 N|         142|          48|           1|        7.9|  3.5|    0.5|      2.55|         0.0|                  1.0|       15.45|                 2.5|\n",
      "|       1| 2024-10-01 08:59:55|  2024-10-01 09:02:24|              1|          0.5|         1|                 N|         230|         161|           1|        5.1|  3.5|    0.5|       2.0|         0.0|                  1.0|        12.1|                 2.5|\n",
      "|       1| 2024-10-01 08:00:47|  2024-10-01 08:04:22|              0|          1.1|         1|                 N|         142|         237|           1|        7.2|  3.5|    0.5|       3.0|         0.0|                  1.0|        15.2|                 2.5|\n",
      "|       1| 2024-10-01 08:17:36|  2024-10-01 08:26:22|              1|          2.2|         1|                 N|         162|         145|           1|       11.4|  3.5|    0.5|       3.3|         0.0|                  1.0|        19.7|                 2.5|\n",
      "|       1| 2024-10-01 08:49:00|  2024-10-01 08:52:20|              1|          0.6|         1|                 N|         229|         162|           1|        5.1|  3.5|    0.5|       2.0|         0.0|                  1.0|        12.1|                 2.5|\n",
      "|       2| 2024-10-01 08:07:26|  2024-10-01 08:13:20|              1|          0.9|         1|                 N|         162|         162|           1|        7.9|  1.0|    0.5|      3.87|         0.0|                  1.0|       16.77|                 2.5|\n",
      "|       2| 2024-10-01 08:17:11|  2024-10-01 08:25:00|              1|         1.33|         1|                 N|         162|         230|           1|        9.3|  1.0|    0.5|       2.0|         0.0|                  1.0|        16.3|                 2.5|\n",
      "|       2| 2024-10-01 08:00:34|  2024-10-01 08:05:13|              1|         1.79|         1|                 N|         211|         234|           1|        9.3|  1.0|    0.5|      2.86|         0.0|                  1.0|       17.16|                 2.5|\n",
      "|       2| 2024-10-01 07:58:40|  2024-10-01 08:20:26|              1|         5.16|         1|                 N|         142|           7|           1|       24.7|  1.0|    0.5|       0.0|         0.0|                  1.0|        29.7|                 2.5|\n",
      "|       1| 2024-10-01 08:55:29|  2024-10-01 09:42:35|              1|         11.3|        99|                 N|         161|         197|           1|       39.5|  0.0|    0.5|       0.0|        6.94|                  1.0|       47.94|                 0.0|\n",
      "|       1| 2024-10-01 08:08:59|  2024-10-01 08:40:58|              1|         20.6|         1|                 N|         132|         243|           2|       76.5| 2.75|    0.5|       0.0|        6.94|                  1.0|       87.69|                 0.0|\n",
      "|       2| 2024-10-01 08:18:38|  2024-10-01 08:36:47|              2|         7.42|         1|                 N|         239|         247|           4|      -33.1| -1.0|   -0.5|       0.0|         0.0|                 -1.0|       -38.1|                -2.5|\n",
      "|       2| 2024-10-01 08:18:38|  2024-10-01 08:36:47|              2|         7.42|         1|                 N|         239|         247|           4|       33.1|  1.0|    0.5|       0.0|         0.0|                  1.0|        38.1|                 2.5|\n",
      "|       2| 2024-10-01 08:39:33|  2024-10-01 08:53:59|              1|         4.49|         1|                 N|         247|          60|           2|       21.9|  1.0|    0.5|       0.0|         0.0|                  1.0|        24.4|                 0.0|\n",
      "+--------+--------------------+---------------------+---------------+-------------+----------+------------------+------------+------------+------------+-----------+-----+-------+----------+------------+---------------------+------------+--------------------+\n",
      "only showing top 20 rows\n",
      "\n"
     ]
    }
   ],
   "source": [
    "df.show()"
   ]
  },
  {
   "cell_type": "code",
   "execution_count": 66,
   "id": "8c18dcec-3d72-4d44-9438-ec53ac72474f",
   "metadata": {},
   "outputs": [],
   "source": [
    "from pyspark.sql import functions as F"
   ]
  },
  {
   "cell_type": "code",
   "execution_count": 67,
   "id": "d3084c7f-cf61-45d0-a9a3-e4be8717725a",
   "metadata": {},
   "outputs": [],
   "source": [
    "df_temp = df \\\n",
    "    .withColumn('pickup_date', F.to_date(df.tpep_pickup_datetime)) \\\n",
    "    .withColumn('dropoff_date', F.to_date(df.tpep_dropoff_datetime)) \\\n",
    "    .select('VendorID', 'pickup_date', 'dropoff_date', 'PULocationID', 'DOLocationID')"
   ]
  },
  {
   "cell_type": "code",
   "execution_count": 69,
   "id": "d9afb9be-5356-465f-8a49-20b293b402ad",
   "metadata": {},
   "outputs": [
    {
     "name": "stdout",
     "output_type": "stream",
     "text": [
      "+--------+-----------+------------+------------+------------+\n",
      "|VendorID|pickup_date|dropoff_date|PULocationID|DOLocationID|\n",
      "+--------+-----------+------------+------------+------------+\n",
      "|       2| 2024-10-01|  2024-10-01|         162|         246|\n",
      "|       1| 2024-10-01|  2024-10-01|          48|         236|\n",
      "|       1| 2024-10-01|  2024-10-01|         142|          24|\n",
      "|       1| 2024-10-01|  2024-10-01|         233|          75|\n",
      "|       1| 2024-10-01|  2024-10-01|         262|         262|\n",
      "|       2| 2024-10-01|  2024-10-01|         137|         137|\n",
      "|       1| 2024-10-01|  2024-10-01|         142|          48|\n",
      "|       1| 2024-10-01|  2024-10-01|         230|         161|\n",
      "|       1| 2024-10-01|  2024-10-01|         142|         237|\n",
      "|       1| 2024-10-01|  2024-10-01|         162|         145|\n",
      "|       1| 2024-10-01|  2024-10-01|         229|         162|\n",
      "|       2| 2024-10-01|  2024-10-01|         162|         162|\n",
      "|       2| 2024-10-01|  2024-10-01|         162|         230|\n",
      "|       2| 2024-10-01|  2024-10-01|         211|         234|\n",
      "|       2| 2024-10-01|  2024-10-01|         142|           7|\n",
      "|       1| 2024-10-01|  2024-10-01|         161|         197|\n",
      "|       1| 2024-10-01|  2024-10-01|         132|         243|\n",
      "|       2| 2024-10-01|  2024-10-01|         239|         247|\n",
      "|       2| 2024-10-01|  2024-10-01|         239|         247|\n",
      "|       2| 2024-10-01|  2024-10-01|         247|          60|\n",
      "+--------+-----------+------------+------------+------------+\n",
      "only showing top 20 rows\n",
      "\n"
     ]
    }
   ],
   "source": [
    "df_temp.show()"
   ]
  },
  {
   "cell_type": "code",
   "execution_count": 68,
   "id": "b03a6946-39a3-42d2-b4bd-b5c33898a89a",
   "metadata": {},
   "outputs": [],
   "source": [
    "df_temp.createOrReplaceTempView('trips')"
   ]
  },
  {
   "cell_type": "code",
   "execution_count": 71,
   "id": "6aafbed5-d2a9-4cb9-8cb7-4d6dcbe0f60b",
   "metadata": {},
   "outputs": [
    {
     "name": "stdout",
     "output_type": "stream",
     "text": [
      "+-----------+\n",
      "|trips_count|\n",
      "+-----------+\n",
      "|     116396|\n",
      "+-----------+\n",
      "\n"
     ]
    }
   ],
   "source": [
    "spark.sql(\"\"\"\n",
    "    SELECT count(1) AS trips_count \n",
    "    FROM trips \n",
    "    WHERE pickup_date = '2024-10-15'\n",
    "\"\"\").show()"
   ]
  },
  {
   "cell_type": "code",
   "execution_count": 60,
   "id": "3f3f2962-4ea4-419b-8463-e29eb2e25ba6",
   "metadata": {},
   "outputs": [],
   "source": [
    "df.createOrReplaceTempView('yellow_tripdata_2024_10')  "
   ]
  },
  {
   "cell_type": "code",
   "execution_count": 63,
   "id": "ead1ce31-f852-4eab-b3d4-a9ca9198c6b9",
   "metadata": {},
   "outputs": [
    {
     "name": "stdout",
     "output_type": "stream",
     "text": [
      "+-----------+\n",
      "|trips_count|\n",
      "+-----------+\n",
      "|     116396|\n",
      "+-----------+\n",
      "\n"
     ]
    }
   ],
   "source": [
    "spark.sql(\"\"\"\n",
    "    SELECT count(1) AS trips_count \n",
    "    FROM yellow_tripdata_2024_10 \n",
    "    WHERE DATE(tpep_pickup_datetime) = '2024-10-15'\n",
    "\"\"\").show()"
   ]
  },
  {
   "cell_type": "code",
   "execution_count": 72,
   "id": "d87f9faa-ea6c-41f6-a857-fb6d16134120",
   "metadata": {},
   "outputs": [
    {
     "name": "stdout",
     "output_type": "stream",
     "text": [
      "+------------------+\n",
      "|             hours|\n",
      "+------------------+\n",
      "|162.61777777777777|\n",
      "|           143.325|\n",
      "|137.76055555555556|\n",
      "|114.83472222222223|\n",
      "| 89.89833333333333|\n",
      "| 89.44611111111111|\n",
      "| 70.29916666666666|\n",
      "| 67.57333333333334|\n",
      "| 66.06666666666666|\n",
      "|           46.4225|\n",
      "+------------------+\n",
      "\n"
     ]
    }
   ],
   "source": [
    "spark.sql(\"\"\"\n",
    "SELECT \n",
    "    (unix_timestamp(tpep_dropoff_datetime) - unix_timestamp(tpep_pickup_datetime)) / 3600 AS hours\n",
    "FROM yellow_tripdata_2024_10\n",
    "ORDER BY hours DESC\n",
    "LIMIT 10;\n",
    "\"\"\").show()  "
   ]
  },
  {
   "cell_type": "code",
   "execution_count": 73,
   "id": "5dcebb03-7930-45c0-9a50-6a87b221322f",
   "metadata": {},
   "outputs": [],
   "source": [
    "# Create zone\n",
    "df_zone = spark.read \\\n",
    "    .option(\"header\", \"true\") \\\n",
    "    .csv('taxi_zone_lookup.csv')"
   ]
  },
  {
   "cell_type": "code",
   "execution_count": 75,
   "id": "cba0d979-054a-464c-9fb3-f31afacef73d",
   "metadata": {},
   "outputs": [
    {
     "name": "stdout",
     "output_type": "stream",
     "text": [
      "+----------+-------------+--------------------+------------+\n",
      "|LocationID|      Borough|                Zone|service_zone|\n",
      "+----------+-------------+--------------------+------------+\n",
      "|         1|          EWR|      Newark Airport|         EWR|\n",
      "|         2|       Queens|         Jamaica Bay|   Boro Zone|\n",
      "|         3|        Bronx|Allerton/Pelham G...|   Boro Zone|\n",
      "|         4|    Manhattan|       Alphabet City| Yellow Zone|\n",
      "|         5|Staten Island|       Arden Heights|   Boro Zone|\n",
      "|         6|Staten Island|Arrochar/Fort Wad...|   Boro Zone|\n",
      "|         7|       Queens|             Astoria|   Boro Zone|\n",
      "|         8|       Queens|        Astoria Park|   Boro Zone|\n",
      "|         9|       Queens|          Auburndale|   Boro Zone|\n",
      "|        10|       Queens|        Baisley Park|   Boro Zone|\n",
      "|        11|     Brooklyn|          Bath Beach|   Boro Zone|\n",
      "|        12|    Manhattan|        Battery Park| Yellow Zone|\n",
      "|        13|    Manhattan|   Battery Park City| Yellow Zone|\n",
      "|        14|     Brooklyn|           Bay Ridge|   Boro Zone|\n",
      "|        15|       Queens|Bay Terrace/Fort ...|   Boro Zone|\n",
      "|        16|       Queens|             Bayside|   Boro Zone|\n",
      "|        17|     Brooklyn|             Bedford|   Boro Zone|\n",
      "|        18|        Bronx|        Bedford Park|   Boro Zone|\n",
      "|        19|       Queens|           Bellerose|   Boro Zone|\n",
      "|        20|        Bronx|             Belmont|   Boro Zone|\n",
      "+----------+-------------+--------------------+------------+\n",
      "only showing top 20 rows\n",
      "\n"
     ]
    }
   ],
   "source": [
    "df_zone.show()"
   ]
  },
  {
   "cell_type": "code",
   "execution_count": 76,
   "id": "c257d2fa-c8b4-4f3e-be6c-cc5c7c541299",
   "metadata": {},
   "outputs": [],
   "source": [
    "# Zone temp view\n",
    "df_zone.createOrReplaceTempView('zones')"
   ]
  },
  {
   "cell_type": "code",
   "execution_count": 77,
   "id": "3234afc3-6b1c-421f-af16-4a65daf00b5b",
   "metadata": {},
   "outputs": [
    {
     "name": "stdout",
     "output_type": "stream",
     "text": [
      "+--------------------+-----------+\n",
      "|                Zone|trips_count|\n",
      "+--------------------+-----------+\n",
      "|Governor's Island...|          1|\n",
      "|       Rikers Island|          2|\n",
      "|       Arden Heights|          2|\n",
      "|         Jamaica Bay|          3|\n",
      "| Green-Wood Cemetery|          3|\n",
      "|Charleston/Totten...|          4|\n",
      "|   Rossville/Woodrow|          4|\n",
      "|       West Brighton|          4|\n",
      "|Eltingville/Annad...|          4|\n",
      "|       Port Richmond|          4|\n",
      "|         Great Kills|          6|\n",
      "|        Crotona Park|          6|\n",
      "|Heartland Village...|          7|\n",
      "|     Mariners Harbor|          7|\n",
      "|Saint George/New ...|          9|\n",
      "|             Oakwood|          9|\n",
      "|       Broad Channel|         10|\n",
      "|New Dorp/Midland ...|         10|\n",
      "|         Westerleigh|         12|\n",
      "|     Pelham Bay Park|         12|\n",
      "+--------------------+-----------+\n",
      "only showing top 20 rows\n",
      "\n"
     ]
    }
   ],
   "source": [
    "spark.sql(\"\"\"\n",
    "    SELECT zones.Zone , count(1) as trips_count \n",
    "    FROM yellow_tripdata_2024_10\n",
    "    INNER JOIN zones \n",
    "    ON zones.LocationID = yellow_tripdata_2024_10.PULocationID\n",
    "    GROUP BY zones.Zone\n",
    "    ORDER BY trips_count;\n",
    "\"\"\").show()  "
   ]
  }
 ],
 "metadata": {
  "kernelspec": {
   "display_name": "Python 3 (ipykernel)",
   "language": "python",
   "name": "python3"
  },
  "language_info": {
   "codemirror_mode": {
    "name": "ipython",
    "version": 3
   },
   "file_extension": ".py",
   "mimetype": "text/x-python",
   "name": "python",
   "nbconvert_exporter": "python",
   "pygments_lexer": "ipython3",
   "version": "3.12.3"
  }
 },
 "nbformat": 4,
 "nbformat_minor": 5
}
