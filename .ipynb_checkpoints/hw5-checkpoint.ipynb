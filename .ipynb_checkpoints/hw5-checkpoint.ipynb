{
 "cells": [
  {
   "cell_type": "code",
   "execution_count": 1,
   "id": "4eed8961-9fe9-4178-8fe5-3ea6222f0d65",
   "metadata": {},
   "outputs": [],
   "source": [
    "import pyspark"
   ]
  },
  {
   "cell_type": "code",
   "execution_count": 2,
   "id": "432845d8-b766-4474-8375-3ba98b7d90da",
   "metadata": {},
   "outputs": [
    {
     "data": {
      "text/plain": [
       "'3.4.4'"
      ]
     },
     "execution_count": 2,
     "metadata": {},
     "output_type": "execute_result"
    }
   ],
   "source": [
    "pyspark.__version__"
   ]
  },
  {
   "cell_type": "code",
   "execution_count": 4,
   "id": "d71ae680-5b76-4b5f-a4f1-3ba8e373f40f",
   "metadata": {},
   "outputs": [
    {
     "name": "stdout",
     "output_type": "stream",
     "text": [
      "root\n",
      " |-- VendorID: integer (nullable = true)\n",
      " |-- tpep_pickup_datetime: timestamp_ntz (nullable = true)\n",
      " |-- tpep_dropoff_datetime: timestamp_ntz (nullable = true)\n",
      " |-- passenger_count: long (nullable = true)\n",
      " |-- trip_distance: double (nullable = true)\n",
      " |-- RatecodeID: long (nullable = true)\n",
      " |-- store_and_fwd_flag: string (nullable = true)\n",
      " |-- PULocationID: integer (nullable = true)\n",
      " |-- DOLocationID: integer (nullable = true)\n",
      " |-- payment_type: long (nullable = true)\n",
      " |-- fare_amount: double (nullable = true)\n",
      " |-- extra: double (nullable = true)\n",
      " |-- mta_tax: double (nullable = true)\n",
      " |-- tip_amount: double (nullable = true)\n",
      " |-- tolls_amount: double (nullable = true)\n",
      " |-- improvement_surcharge: double (nullable = true)\n",
      " |-- total_amount: double (nullable = true)\n",
      " |-- congestion_surcharge: double (nullable = true)\n",
      " |-- Airport_fee: double (nullable = true)\n",
      "\n"
     ]
    }
   ],
   "source": [
    "from pyspark.sql import SparkSession\n",
    "\n",
    "spark = SparkSession.builder.master(\"local[*]\").appName('hw5').getOrCreate()\n",
    "\n",
    "df = spark.read.parquet('./data/raw/yellow/2024/10/yellow_tripdata_2024_10.parquet')\n",
    "\n",
    "df.printSchema()"
   ]
  },
  {
   "cell_type": "code",
   "execution_count": 6,
   "id": "9724418f-cd86-49e6-8b85-3ff5ec370f05",
   "metadata": {},
   "outputs": [
    {
     "data": {
      "text/plain": [
       "StructType([StructField('VendorID', IntegerType(), True), StructField('tpep_pickup_datetime', TimestampNTZType(), True), StructField('tpep_dropoff_datetime', TimestampNTZType(), True), StructField('passenger_count', LongType(), True), StructField('trip_distance', DoubleType(), True), StructField('RatecodeID', LongType(), True), StructField('store_and_fwd_flag', StringType(), True), StructField('PULocationID', IntegerType(), True), StructField('DOLocationID', IntegerType(), True), StructField('payment_type', LongType(), True), StructField('fare_amount', DoubleType(), True), StructField('extra', DoubleType(), True), StructField('mta_tax', DoubleType(), True), StructField('tip_amount', DoubleType(), True), StructField('tolls_amount', DoubleType(), True), StructField('improvement_surcharge', DoubleType(), True), StructField('total_amount', DoubleType(), True), StructField('congestion_surcharge', DoubleType(), True), StructField('Airport_fee', DoubleType(), True)])"
      ]
     },
     "execution_count": 6,
     "metadata": {},
     "output_type": "execute_result"
    }
   ],
   "source": [
    "df.schema"
   ]
  },
  {
   "cell_type": "code",
   "execution_count": 7,
   "id": "50118558-3828-452a-ab16-d3d6cbc0f8c2",
   "metadata": {},
   "outputs": [
    {
     "ename": "NameError",
     "evalue": "name 'types' is not defined",
     "output_type": "error",
     "traceback": [
      "\u001b[31m---------------------------------------------------------------------------\u001b[39m",
      "\u001b[31mNameError\u001b[39m                                 Traceback (most recent call last)",
      "\u001b[36mCell\u001b[39m\u001b[36m \u001b[39m\u001b[32mIn[7]\u001b[39m\u001b[32m, line 1\u001b[39m\n\u001b[32m----> \u001b[39m\u001b[32m1\u001b[39m schema = \u001b[43mtypes\u001b[49m.StructType([\n\u001b[32m      2\u001b[39m     types.StructField(\u001b[33m\"\u001b[39m\u001b[33mVendorID\u001b[39m\u001b[33m\"\u001b[39m, types.IntegerType(), \u001b[38;5;28;01mTrue\u001b[39;00m),\n\u001b[32m      3\u001b[39m     types.StructField(\u001b[33m\"\u001b[39m\u001b[33mtpep_pickup_datetime\u001b[39m\u001b[33m\"\u001b[39m, types.TimestampType(), \u001b[38;5;28;01mTrue\u001b[39;00m),\n\u001b[32m      4\u001b[39m     types.StructField(\u001b[33m\"\u001b[39m\u001b[33mtpep_dropoff_datetime\u001b[39m\u001b[33m\"\u001b[39m, types.TimestampType(), \u001b[38;5;28;01mTrue\u001b[39;00m),\n\u001b[32m      5\u001b[39m     types.StructField(\u001b[33m\"\u001b[39m\u001b[33mpassenger_count\u001b[39m\u001b[33m\"\u001b[39m, types.IntegerType(), \u001b[38;5;28;01mTrue\u001b[39;00m),\n\u001b[32m      6\u001b[39m     types.StructField(\u001b[33m\"\u001b[39m\u001b[33mtrip_distance\u001b[39m\u001b[33m\"\u001b[39m, types.DoubleType(), \u001b[38;5;28;01mTrue\u001b[39;00m),\n\u001b[32m      7\u001b[39m     types.StructField(\u001b[33m\"\u001b[39m\u001b[33mRatecodeID\u001b[39m\u001b[33m\"\u001b[39m, types.IntegerType(), \u001b[38;5;28;01mTrue\u001b[39;00m),\n\u001b[32m      8\u001b[39m     types.StructField(\u001b[33m\"\u001b[39m\u001b[33mstore_and_fwd_flag\u001b[39m\u001b[33m\"\u001b[39m, types.StringType(), \u001b[38;5;28;01mTrue\u001b[39;00m),\n\u001b[32m      9\u001b[39m     types.StructField(\u001b[33m\"\u001b[39m\u001b[33mPULocationID\u001b[39m\u001b[33m\"\u001b[39m, types.IntegerType(), \u001b[38;5;28;01mTrue\u001b[39;00m),\n\u001b[32m     10\u001b[39m     types.StructField(\u001b[33m\"\u001b[39m\u001b[33mDOLocationID\u001b[39m\u001b[33m\"\u001b[39m, types.IntegerType(), \u001b[38;5;28;01mTrue\u001b[39;00m),\n\u001b[32m     11\u001b[39m     types.StructField(\u001b[33m\"\u001b[39m\u001b[33mpayment_type\u001b[39m\u001b[33m\"\u001b[39m, types.IntegerType(), \u001b[38;5;28;01mTrue\u001b[39;00m),\n\u001b[32m     12\u001b[39m     types.StructField(\u001b[33m\"\u001b[39m\u001b[33mfare_amount\u001b[39m\u001b[33m\"\u001b[39m, types.DoubleType(), \u001b[38;5;28;01mTrue\u001b[39;00m),\n\u001b[32m     13\u001b[39m     types.StructField(\u001b[33m\"\u001b[39m\u001b[33mextra\u001b[39m\u001b[33m\"\u001b[39m, types.DoubleType(), \u001b[38;5;28;01mTrue\u001b[39;00m),\n\u001b[32m     14\u001b[39m     types.StructField(\u001b[33m\"\u001b[39m\u001b[33mmta_tax\u001b[39m\u001b[33m\"\u001b[39m, types.DoubleType(), \u001b[38;5;28;01mTrue\u001b[39;00m),\n\u001b[32m     15\u001b[39m     types.StructField(\u001b[33m\"\u001b[39m\u001b[33mtip_amount\u001b[39m\u001b[33m\"\u001b[39m, types.DoubleType(), \u001b[38;5;28;01mTrue\u001b[39;00m),\n\u001b[32m     16\u001b[39m     types.StructField(\u001b[33m\"\u001b[39m\u001b[33mtolls_amount\u001b[39m\u001b[33m\"\u001b[39m, types.DoubleType(), \u001b[38;5;28;01mTrue\u001b[39;00m),\n\u001b[32m     17\u001b[39m     types.StructField(\u001b[33m\"\u001b[39m\u001b[33mimprovement_surcharge\u001b[39m\u001b[33m\"\u001b[39m, types.DoubleType(), \u001b[38;5;28;01mTrue\u001b[39;00m),\n\u001b[32m     18\u001b[39m     types.StructField(\u001b[33m\"\u001b[39m\u001b[33mtotal_amount\u001b[39m\u001b[33m\"\u001b[39m, types.DoubleType(), \u001b[38;5;28;01mTrue\u001b[39;00m),\n\u001b[32m     19\u001b[39m     types.StructField(\u001b[33m\"\u001b[39m\u001b[33mcongestion_surcharge\u001b[39m\u001b[33m\"\u001b[39m, types.DoubleType(), \u001b[38;5;28;01mTrue\u001b[39;00m)\n\u001b[32m     20\u001b[39m ])\n",
      "\u001b[31mNameError\u001b[39m: name 'types' is not defined"
     ]
    }
   ],
   "source": [
    "from pyspark.sql import types\n",
    "\n",
    "schema = types.StructType([\n",
    "    types.StructField(\"VendorID\", types.IntegerType(), True),\n",
    "    types.StructField(\"tpep_pickup_datetime\", types.TimestampType(), True),\n",
    "    types.StructField(\"tpep_dropoff_datetime\", types.TimestampType(), True),\n",
    "    types.StructField(\"passenger_count\", types.IntegerType(), True),\n",
    "    types.StructField(\"trip_distance\", types.DoubleType(), True),\n",
    "    types.StructField(\"RatecodeID\", types.IntegerType(), True),\n",
    "    types.StructField(\"store_and_fwd_flag\", types.StringType(), True),\n",
    "    types.StructField(\"PULocationID\", types.IntegerType(), True),\n",
    "    types.StructField(\"DOLocationID\", types.IntegerType(), True),\n",
    "    types.StructField(\"payment_type\", types.IntegerType(), True),\n",
    "    types.StructField(\"fare_amount\", types.DoubleType(), True),\n",
    "    types.StructField(\"extra\", types.DoubleType(), True),\n",
    "    types.StructField(\"mta_tax\", types.DoubleType(), True),\n",
    "    types.StructField(\"tip_amount\", types.DoubleType(), True),\n",
    "    types.StructField(\"tolls_amount\", types.DoubleType(), True),\n",
    "    types.StructField(\"improvement_surcharge\", types.DoubleType(), True),\n",
    "    types.StructField(\"total_amount\", types.DoubleType(), True),\n",
    "    types.StructField(\"congestion_surcharge\", types.DoubleType(), True)\n",
    "])"
   ]
  }
 ],
 "metadata": {
  "kernelspec": {
   "display_name": "Python 3 (ipykernel)",
   "language": "python",
   "name": "python3"
  },
  "language_info": {
   "codemirror_mode": {
    "name": "ipython",
    "version": 3
   },
   "file_extension": ".py",
   "mimetype": "text/x-python",
   "name": "python",
   "nbconvert_exporter": "python",
   "pygments_lexer": "ipython3",
   "version": "3.12.3"
  }
 },
 "nbformat": 4,
 "nbformat_minor": 5
}
